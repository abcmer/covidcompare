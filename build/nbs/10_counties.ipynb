{
 "cells": [
  {
   "cell_type": "code",
   "execution_count": 1,
   "metadata": {},
   "outputs": [],
   "source": [
    "import pandas as pd\n",
    "import json, requests\n",
    "import math\n",
    "import numpy as np\n",
    "from pathlib import Path\n",
    "from collections import defaultdict"
   ]
  },
  {
   "cell_type": "markdown",
   "metadata": {},
   "source": [
    "## Setup"
   ]
  },
  {
   "cell_type": "code",
   "execution_count": 2,
   "metadata": {},
   "outputs": [],
   "source": [
    "data_folder = Path('../../data/county')"
   ]
  },
  {
   "cell_type": "code",
   "execution_count": 3,
   "metadata": {},
   "outputs": [],
   "source": [
    "code_to_state = {'01': 'Alabama',\n",
    " '02': 'Alaska',\n",
    " '04': 'Arizona',\n",
    " '05': 'Arkansas',\n",
    " '06': 'California',\n",
    " '08': 'Colorado',\n",
    " '09': 'Connecticut',\n",
    " '10': 'Delaware',\n",
    " '11': 'District of Columbia',\n",
    " '12': 'Florida',\n",
    " '13': 'Georgia',\n",
    " '15': 'Hawaii',\n",
    " '16': 'Idaho',\n",
    " '17': 'Illinois',\n",
    " '18': 'Indiana',\n",
    " '19': 'Iowa',\n",
    " '20': 'Kansas',\n",
    " '21': 'Kentucky',\n",
    " '22': 'Louisiana',\n",
    " '23': 'Maine',\n",
    " '24': 'Maryland',\n",
    " '25': 'Massachusetts',\n",
    " '26': 'Michigan',\n",
    " '27': 'Minnesota',\n",
    " '28': 'Mississippi',\n",
    " '29': 'Missouri',\n",
    " '30': 'Montana',\n",
    " '31': 'Nebraska',\n",
    " '32': 'Nevada',\n",
    " '33': 'New Hampshire',\n",
    " '34': 'New Jersey',\n",
    " '35': 'New Mexico',\n",
    " '36': 'New York',\n",
    " '37': 'North Carolina',\n",
    " '38': 'North Dakota',\n",
    " '39': 'Ohio',\n",
    " '40': 'Oklahoma',\n",
    " '41': 'Oregon',\n",
    " '42': 'Pennsylvania',\n",
    " '44': 'Rhode Island',\n",
    " '45': 'South Carolina',\n",
    " '46': 'South Dakota',\n",
    " '47': 'Tennessee',\n",
    " '48': 'Texas',\n",
    " '49': 'Utah',\n",
    " '50': 'Vermont',\n",
    " '51': 'Virginia',\n",
    " '53': 'Washington',\n",
    " '54': 'West Virginia',\n",
    " '55': 'Wisconsin',\n",
    " '56': 'Wyoming',\n",
    " '72': 'Puerto Rico'}"
   ]
  },
  {
   "cell_type": "code",
   "execution_count": 4,
   "metadata": {},
   "outputs": [],
   "source": [
    "state_to_abbr = {\n",
    "    'Alabama': 'AL',\n",
    "    'Alaska': 'AK',\n",
    "    'Arizona': 'AZ',\n",
    "    'Arkansas': 'AR',\n",
    "    'California': 'CA',\n",
    "    'Colorado': 'CO',\n",
    "    'Connecticut': 'CT',\n",
    "    'Delaware': 'DE',\n",
    "    'District of Columbia': 'DC',\n",
    "    'Florida': 'FL',\n",
    "    'Georgia': 'GA',\n",
    "    'Hawaii': 'HI',\n",
    "    'Idaho': 'ID',\n",
    "    'Illinois': 'IL',\n",
    "    'Indiana': 'IN',\n",
    "    'Iowa': 'IA',\n",
    "    'Kansas': 'KS',\n",
    "    'Kentucky': 'KY',\n",
    "    'Louisiana': 'LA',\n",
    "    'Maine': 'ME',\n",
    "    'Maryland': 'MD',\n",
    "    'Massachusetts': 'MA',\n",
    "    'Michigan': 'MI',\n",
    "    'Minnesota': 'MN',\n",
    "    'Mississippi': 'MS',\n",
    "    'Missouri': 'MO',\n",
    "    'Montana': 'MT',\n",
    "    'Nebraska': 'NE',\n",
    "    'Nevada': 'NV',\n",
    "    'New Hampshire': 'NH',\n",
    "    'New Jersey': 'NJ',\n",
    "    'New Mexico': 'NM',\n",
    "    'New York': 'NY',\n",
    "    'North Carolina': 'NC',\n",
    "    'North Dakota': 'ND',\n",
    "    'Northern Mariana Islands':'MP',\n",
    "    'Ohio': 'OH',\n",
    "    'Oklahoma': 'OK',\n",
    "    'Oregon': 'OR',\n",
    "    'Palau': 'PW',\n",
    "    'Pennsylvania': 'PA',\n",
    "    'Puerto Rico': 'PR',\n",
    "    'Rhode Island': 'RI',\n",
    "    'South Carolina': 'SC',\n",
    "    'South Dakota': 'SD',\n",
    "    'Tennessee': 'TN',\n",
    "    'Texas': 'TX',\n",
    "    'Utah': 'UT',\n",
    "    'Vermont': 'VT',\n",
    "    'Virgin Islands': 'VI',\n",
    "    'Virginia': 'VA',\n",
    "    'Washington': 'WA',\n",
    "    'West Virginia': 'WV',\n",
    "    'Wisconsin': 'WI',\n",
    "    'Wyoming': 'WY',\n",
    "}"
   ]
  },
  {
   "cell_type": "code",
   "execution_count": 5,
   "metadata": {},
   "outputs": [],
   "source": [
    "with open(data_folder/\"counties20m.json\", 'r') as f:\n",
    "    county_json = json.load(f)"
   ]
  },
  {
   "cell_type": "markdown",
   "metadata": {},
   "source": [
    "## Alter Key Names "
   ]
  },
  {
   "cell_type": "markdown",
   "metadata": {},
   "source": [
    "This section is to make key names lowercases and consistent"
   ]
  },
  {
   "cell_type": "code",
   "execution_count": 6,
   "metadata": {},
   "outputs": [],
   "source": [
    "keys = ['GEO_ID', 'COUNTY', 'NAME', 'LSAD', 'CENSUSAREA', 'STATE']"
   ]
  },
  {
   "cell_type": "code",
   "execution_count": 7,
   "metadata": {},
   "outputs": [],
   "source": [
    "for county in county_json[\"features\"]:\n",
    "    for key in keys:\n",
    "        county[\"properties\"][key.lower()] = county[\"properties\"][key]\n",
    "        del county[\"properties\"][key]"
   ]
  },
  {
   "cell_type": "code",
   "execution_count": 8,
   "metadata": {},
   "outputs": [
    {
     "data": {
      "text/plain": [
       "{'type': 'Feature',\n",
       " 'properties': {'geo_id': '0500000US01001',\n",
       "  'county': '001',\n",
       "  'name': 'Autauga',\n",
       "  'lsad': 'County',\n",
       "  'censusarea': 594.436,\n",
       "  'state': '01'},\n",
       " 'geometry': {'type': 'Polygon',\n",
       "  'coordinates': [[[-86.496774, 32.344437],\n",
       "    [-86.717897, 32.402814],\n",
       "    [-86.814912, 32.340803],\n",
       "    [-86.890581, 32.502974],\n",
       "    [-86.917595, 32.664169],\n",
       "    [-86.71339, 32.661732],\n",
       "    [-86.714219, 32.705694],\n",
       "    [-86.413116, 32.707386],\n",
       "    [-86.411172, 32.409937],\n",
       "    [-86.496774, 32.344437]]]}}"
      ]
     },
     "execution_count": 8,
     "metadata": {},
     "output_type": "execute_result"
    }
   ],
   "source": [
    "county_json[\"features\"][0]"
   ]
  },
  {
   "cell_type": "markdown",
   "metadata": {},
   "source": [
    "## Add State Name"
   ]
  },
  {
   "cell_type": "code",
   "execution_count": 9,
   "metadata": {},
   "outputs": [],
   "source": [
    "for cur_county in county_json[\"features\"]:\n",
    "    cur_county[\"properties\"][\"statename\"] = code_to_state[cur_county[\"properties\"][\"state\"]]\n",
    "    cur_county[\"properties\"][\"stateabbr\"] = state_to_abbr[cur_county[\"properties\"][\"statename\"]]"
   ]
  },
  {
   "cell_type": "markdown",
   "metadata": {},
   "source": [
    "## Add population data"
   ]
  },
  {
   "cell_type": "code",
   "execution_count": 10,
   "metadata": {},
   "outputs": [],
   "source": [
    "alt_names = {\"Wade Hampton\":\"Kusilvak Census Area\"}"
   ]
  },
  {
   "cell_type": "code",
   "execution_count": 11,
   "metadata": {},
   "outputs": [],
   "source": [
    "df_pop = pd.read_csv(data_folder/\"population.csv\")"
   ]
  },
  {
   "cell_type": "code",
   "execution_count": 12,
   "metadata": {},
   "outputs": [],
   "source": [
    "d = {}\n",
    "for row in df_pop.iterrows():\n",
    "    d[row[1].STATE] = row[1].STNAME"
   ]
  },
  {
   "cell_type": "code",
   "execution_count": 13,
   "metadata": {},
   "outputs": [],
   "source": [
    "df_pop = df_pop[[\"STNAME\", \"CTYNAME\", \"POPESTIMATE2018\", \"STATE\", \"COUNTY\"]]"
   ]
  },
  {
   "cell_type": "code",
   "execution_count": 14,
   "metadata": {},
   "outputs": [
    {
     "name": "stdout",
     "output_type": "stream",
     "text": [
      "Alaska Wade Hampton not found\n",
      "Puerto Rico Arecibo not found\n",
      "Puerto Rico Barranquitas not found\n",
      "Puerto Rico Caguas not found\n",
      "Puerto Rico Carolina not found\n",
      "Puerto Rico Comerío not found\n",
      "Puerto Rico Florida not found\n",
      "Puerto Rico Guaynabo not found\n",
      "Puerto Rico Humacao not found\n",
      "Puerto Rico Las Marías not found\n",
      "Puerto Rico Maricao not found\n",
      "Puerto Rico Naranjito not found\n",
      "Puerto Rico Quebradillas not found\n",
      "Puerto Rico San Lorenzo not found\n",
      "Puerto Rico Toa Alta not found\n",
      "Puerto Rico Vega Baja not found\n",
      "Puerto Rico Camuy not found\n",
      "Puerto Rico Cayey not found\n",
      "Puerto Rico Cidra not found\n",
      "Puerto Rico Coamo not found\n",
      "Puerto Rico Fajardo not found\n",
      "Puerto Rico Guánica not found\n",
      "Puerto Rico Guayanilla not found\n",
      "Puerto Rico Hormigueros not found\n",
      "Puerto Rico Jayuya not found\n",
      "Puerto Rico Aguadilla not found\n",
      "Puerto Rico Lajas not found\n",
      "Puerto Rico Lares not found\n",
      "Puerto Rico Luquillo not found\n",
      "Puerto Rico Maunabo not found\n",
      "Puerto Rico Morovis not found\n",
      "Puerto Rico Naguabo not found\n",
      "Puerto Rico Patillas not found\n",
      "Puerto Rico Rincón not found\n",
      "Puerto Rico Río Grande not found\n",
      "Puerto Rico San Germán not found\n",
      "Puerto Rico San Sebastián not found\n",
      "Puerto Rico Toa Baja not found\n",
      "Puerto Rico Vega Alta not found\n",
      "Puerto Rico Juana Díaz not found\n",
      "Puerto Rico Vieques not found\n",
      "Puerto Rico Yabucoa not found\n",
      "Puerto Rico Yauco not found\n",
      "Puerto Rico Villalba not found\n",
      "Puerto Rico Barceloneta not found\n",
      "Puerto Rico Bayamón not found\n",
      "Puerto Rico Canóvanas not found\n",
      "Puerto Rico Ciales not found\n",
      "Puerto Rico Dorado not found\n",
      "Puerto Rico Gurabo not found\n",
      "Puerto Rico Juncos not found\n",
      "Puerto Rico Las Piedras not found\n",
      "Puerto Rico Moca not found\n",
      "Puerto Rico Peñuelas not found\n",
      "Puerto Rico Salinas not found\n",
      "Puerto Rico Trujillo Alto not found\n",
      "Puerto Rico Adjuntas not found\n",
      "Puerto Rico Aguas Buenas not found\n",
      "Puerto Rico Añasco not found\n",
      "Puerto Rico Cabo Rojo not found\n",
      "Puerto Rico Cataño not found\n",
      "Puerto Rico Ceiba not found\n",
      "Puerto Rico Corozal not found\n",
      "Puerto Rico Culebra not found\n",
      "Puerto Rico Guayama not found\n",
      "Puerto Rico Hatillo not found\n",
      "Puerto Rico Loíza not found\n",
      "Puerto Rico Manatí not found\n",
      "Puerto Rico Mayagüez not found\n",
      "Puerto Rico Orocovis not found\n",
      "Puerto Rico Ponce not found\n",
      "Puerto Rico Sabana Grande not found\n",
      "Puerto Rico San Juan not found\n",
      "Puerto Rico Santa Isabel not found\n",
      "Puerto Rico Utuado not found\n",
      "Puerto Rico Isabela not found\n",
      "Puerto Rico Aguada not found\n",
      "Puerto Rico Aibonito not found\n",
      "Puerto Rico Arroyo not found\n"
     ]
    }
   ],
   "source": [
    "for cur_county in county_json[\"features\"]:\n",
    "    props = cur_county[\"properties\"]\n",
    "    state = props[\"state\"]\n",
    "    county = props[\"county\"]\n",
    "    pop = df_pop[(df_pop[\"STATE\"] == int(state))&(df_pop[\"COUNTY\"] == int(county))][\"POPESTIMATE2018\"]\n",
    "    if(len(pop.values) > 0):\n",
    "        props[\"population\"] = pop.values[0]\n",
    "    else:\n",
    "        if(props[\"statename\"] == \"Virginia\" and props[\"name\"] == \"Bedford\"): props[\"population\"] = 78742\n",
    "        elif(props[\"statename\"] == \"South Dakota\" and props[\"name\"] == \"Shannon\"): props[\"population\"] = 14309\n",
    "        else: print(props[\"statename\"], props[\"name\"], \"not found\")"
   ]
  },
  {
   "cell_type": "markdown",
   "metadata": {},
   "source": [
    "### Add Missing Alaska County and Puerto Rico Data"
   ]
  },
  {
   "cell_type": "code",
   "execution_count": 15,
   "metadata": {},
   "outputs": [],
   "source": [
    "df_pop_add = pd.read_csv(data_folder/\"population2.csv\")"
   ]
  },
  {
   "cell_type": "code",
   "execution_count": 16,
   "metadata": {},
   "outputs": [],
   "source": [
    "pop_dict = {row[1]: row[2] for row in df_pop_add.values}"
   ]
  },
  {
   "cell_type": "code",
   "execution_count": 17,
   "metadata": {},
   "outputs": [],
   "source": [
    "for cur_county in county_json[\"features\"]:\n",
    "    props = cur_county[\"properties\"]\n",
    "    geo_id = props[\"geo_id\"]\n",
    "    if(geo_id in pop_dict):\n",
    "        props[\"population\"] = pop_dict[geo_id]"
   ]
  },
  {
   "cell_type": "markdown",
   "metadata": {},
   "source": [
    "### Alert to any missing populations"
   ]
  },
  {
   "cell_type": "code",
   "execution_count": 18,
   "metadata": {},
   "outputs": [],
   "source": [
    "for cur_county in county_json[\"features\"]:\n",
    "    try:\n",
    "        pop = int(cur_county[\"properties\"][\"population\"])\n",
    "    except KeyError:\n",
    "        print(\"No population found for \", cur_county[\"properties\"])\n",
    "        raise KeyError\n",
    "    except ValueError:\n",
    "        print(cur_county[\"properties\"][\"population\"], \"is not a valid population\")\n",
    "        raise ValueError"
   ]
  },
  {
   "cell_type": "markdown",
   "metadata": {},
   "source": [
    "## Add Land Area in Square Miles"
   ]
  },
  {
   "cell_type": "code",
   "execution_count": 19,
   "metadata": {},
   "outputs": [],
   "source": [
    "df_land_area = pd.read_csv(data_folder/\"countyArea.csv\", encoding = \"ISO-8859-1\")"
   ]
  },
  {
   "cell_type": "code",
   "execution_count": 20,
   "metadata": {},
   "outputs": [],
   "source": [
    "df_land_area = df_land_area[[\"GCT_STUB.target-geo-id\", \"SUBHD0303\", \"HD02\"]]"
   ]
  },
  {
   "cell_type": "code",
   "execution_count": 21,
   "metadata": {},
   "outputs": [],
   "source": [
    "df_land_area = df_land_area.rename(columns={\"GCT_STUB.target-geo-id\":\"geo_id\", \"SUBHD0303\":\"land_area\", \"HD02\":\"housing_units\"})"
   ]
  },
  {
   "cell_type": "code",
   "execution_count": 22,
   "metadata": {},
   "outputs": [
    {
     "data": {
      "text/plain": [
       "14"
      ]
     },
     "execution_count": 22,
     "metadata": {},
     "output_type": "execute_result"
    }
   ],
   "source": [
    "len(\"0500000US01001\")"
   ]
  },
  {
   "cell_type": "code",
   "execution_count": 23,
   "metadata": {},
   "outputs": [
    {
     "data": {
      "text/html": [
       "<div>\n",
       "<style scoped>\n",
       "    .dataframe tbody tr th:only-of-type {\n",
       "        vertical-align: middle;\n",
       "    }\n",
       "\n",
       "    .dataframe tbody tr th {\n",
       "        vertical-align: top;\n",
       "    }\n",
       "\n",
       "    .dataframe thead th {\n",
       "        text-align: right;\n",
       "    }\n",
       "</style>\n",
       "<table border=\"1\" class=\"dataframe\">\n",
       "  <thead>\n",
       "    <tr style=\"text-align: right;\">\n",
       "      <th></th>\n",
       "      <th>geo_id</th>\n",
       "      <th>land_area</th>\n",
       "      <th>housing_units</th>\n",
       "    </tr>\n",
       "  </thead>\n",
       "  <tbody>\n",
       "    <tr>\n",
       "      <th>0</th>\n",
       "      <td>Target Geo Id</td>\n",
       "      <td>Area in square miles - Land area</td>\n",
       "      <td>Housing units</td>\n",
       "    </tr>\n",
       "    <tr>\n",
       "      <th>1</th>\n",
       "      <td>0100000US</td>\n",
       "      <td>3531905.43</td>\n",
       "      <td>131704730</td>\n",
       "    </tr>\n",
       "    <tr>\n",
       "      <th>2</th>\n",
       "      <td>0400000US01</td>\n",
       "      <td>50645.33</td>\n",
       "      <td>2171853</td>\n",
       "    </tr>\n",
       "    <tr>\n",
       "      <th>3</th>\n",
       "      <td>0500000US01001</td>\n",
       "      <td>594.44</td>\n",
       "      <td>22135</td>\n",
       "    </tr>\n",
       "    <tr>\n",
       "      <th>4</th>\n",
       "      <td>0500000US01003</td>\n",
       "      <td>1589.78</td>\n",
       "      <td>104061</td>\n",
       "    </tr>\n",
       "  </tbody>\n",
       "</table>\n",
       "</div>"
      ],
      "text/plain": [
       "           geo_id                         land_area  housing_units\n",
       "0   Target Geo Id  Area in square miles - Land area  Housing units\n",
       "1       0100000US                        3531905.43      131704730\n",
       "2     0400000US01                          50645.33        2171853\n",
       "3  0500000US01001                            594.44          22135\n",
       "4  0500000US01003                           1589.78         104061"
      ]
     },
     "execution_count": 23,
     "metadata": {},
     "output_type": "execute_result"
    }
   ],
   "source": [
    "df_land_area.head()"
   ]
  },
  {
   "cell_type": "code",
   "execution_count": 24,
   "metadata": {},
   "outputs": [],
   "source": [
    "# get only the rows that are counties (some are states and 1 is US overall)\n",
    "df_land_area = df_land_area[df_land_area[\"geo_id\"].map(len) == 14]"
   ]
  },
  {
   "cell_type": "code",
   "execution_count": 25,
   "metadata": {},
   "outputs": [],
   "source": [
    "for cur_county in county_json[\"features\"]:\n",
    "    props = cur_county[\"properties\"]\n",
    "    county_id = props[\"geo_id\"]\n",
    "    _, land_area, housing_units = df_land_area[df_land_area[\"geo_id\"]==county_id].values[0]\n",
    "    props[\"land_area\"] = land_area\n",
    "    props[\"housing_units\"] = housing_units\n",
    "    props[\"population_density\"] = int(props[\"population\"])/float(land_area)"
   ]
  },
  {
   "cell_type": "code",
   "execution_count": 26,
   "metadata": {},
   "outputs": [
    {
     "data": {
      "text/plain": [
       "{'geo_id': '0500000US01001',\n",
       " 'county': '001',\n",
       " 'name': 'Autauga',\n",
       " 'lsad': 'County',\n",
       " 'censusarea': 594.436,\n",
       " 'state': '01',\n",
       " 'statename': 'Alabama',\n",
       " 'stateabbr': 'AL',\n",
       " 'population': 55601,\n",
       " 'land_area': '594.44',\n",
       " 'housing_units': '22135',\n",
       " 'population_density': 93.53509185115402}"
      ]
     },
     "execution_count": 26,
     "metadata": {},
     "output_type": "execute_result"
    }
   ],
   "source": [
    "county_json[\"features\"][0][\"properties\"]"
   ]
  },
  {
   "cell_type": "markdown",
   "metadata": {},
   "source": [
    "## Add Covid Data"
   ]
  },
  {
   "cell_type": "code",
   "execution_count": 27,
   "metadata": {},
   "outputs": [],
   "source": [
    "api_url = \"https://covidcompare.com/data.json\"\n",
    "county_covid = requests.get(api_url).json()"
   ]
  },
  {
   "cell_type": "code",
   "execution_count": 28,
   "metadata": {},
   "outputs": [],
   "source": [
    "# #these are the things that appear in 'county' for which we should delete the entire record\n",
    "deletions = ['Unassigned', 'Unknown','Waiting on information','Ormsby','Southwest Utah','Non-Utah resident','Non-Utah Resident',\n",
    "             'Non-Florida-Resident','Outside-Florida','Sheridan County','Oklahoma Out-Of-State']\n",
    "\n",
    "subs = {\n",
    "    'Weber-Morgan':'Weber',\n",
    "    'Virginia Beach City':'Virginia Beach',\n",
    "    'Alexandria City (VA)':'Alexandria',\n",
    "    'Alexandria City':'Alexandria',\n",
    "    'Charlottesville City':'Charlottesville',\n",
    "    'Laporte':'LaPorte',\n",
    "    'Dupage':'DuPage',\n",
    "    'Mccook':'McCook',\n",
    "    'Mchenry':'McHenry',\n",
    "    'Fond Du Lac':'Fond du Lac',\n",
    "    '?Benton':'Benton',\n",
    "    'Desoto':'DeSoto',\n",
    "    'Bear River':'Box Elder',\n",
    "    'St. John The Baptist':'St. John the Baptist',\n",
    "    'Prince George\\'S':'Prince George\\'s',\n",
    "    'Hawaii Island':'Hawaii',\n",
    "    'Ketchikan Gateway Borough':'Ketchikan Gateway',\n",
    "    'Mclean':'McLean',\n",
    "    'Lasalle':'LaSalle',\n",
    "    'Dade':'Miami-Dade',\n",
    "    'Richmond City':'Richmond',\n",
    "    'Isle Of Wight':'Isle of Wight',\n",
    "    'Portsmouth City':'Portsmouth',\n",
    "    'Detroit City':'Wayne',\n",
    "    'Hay':'Hays',\n",
    "    'Mclennan':'McLennan',\n",
    "    'Dewitt':'DeWitt',\n",
    "    'Elko County':'Elko',\n",
    "    'Filmore':'Fillmore',\n",
    "    'Stanley':'Stanly',\n",
    "    'Lewis And Clark':'Lewis and Clark',\n",
    "    'Berknap':'Belknap',\n",
    "    'Kansas City':'Jackson',\n",
    "    'Delaware County':'Delaware',\n",
    "    'Navajo Nation':'Navajo',\n",
    "    'Mckinley':'McKinley',\n",
    "    'Seward':'Kenai Peninsula',\n",
    "    'Mcclain':'McClain',\n",
    "    '​Benton':'Benton',\n",
    "    'Blue earth':'Blue Earth',\n",
    "    'Washington, D.C.':'District of Columbia',\n",
    "    \n",
    "}\n",
    "\n",
    "doubles = {\n",
    "    ('Maryland', 'Baltimore'):['Baltimore', 'Baltimore City'],\n",
    "    \n",
    "    ('Missouri', 'Jackson'):['Kansas City', 'Jackson'],\n",
    "    ('Missouri', 'St. Louis'):['St. Louis', 'St. Louis City'],\n",
    "    #('Texas','Harris'):['Harris-Non Houston', 'Harris-Houston'], \n",
    "}"
   ]
  },
  {
   "cell_type": "code",
   "execution_count": 29,
   "metadata": {},
   "outputs": [],
   "source": [
    "for (state,county), matches in doubles.items():\n",
    "    total_cases, total_deaths = (0, 0)\n",
    "    for match in matches:\n",
    "        case_dict = county_covid[state].pop(match)\n",
    "        total_cases += int(case_dict[\"confirmed\"])\n",
    "        total_deaths += int(case_dict[\"deaths\"])\n",
    "    county_covid[state][county] = {\"confirmed\":str(total_cases), \"deaths\":str(total_deaths)}\n",
    "\n",
    "clean_dict = {}"
   ]
  },
  {
   "cell_type": "code",
   "execution_count": 30,
   "metadata": {},
   "outputs": [],
   "source": [
    "for state, county_dict in county_covid.items():\n",
    "    if state == 'Washington, D.C.': state = \"District of Columbia\" \n",
    "    clean_dict[state] = {}\n",
    "    for county, data in county_dict.items():\n",
    "#         if(county in deletions): continue\n",
    "        if(county in subs): \n",
    "            new_name = subs[county]\n",
    "            clean_dict[state][new_name] = county_dict[county]\n",
    "        else:\n",
    "            clean_dict[state][county] = county_dict[county]"
   ]
  },
  {
   "cell_type": "code",
   "execution_count": 31,
   "metadata": {},
   "outputs": [],
   "source": [
    "def flatten_json_to_records(json_dict):\n",
    "    records = []\n",
    "    for state, county_dict in clean_dict.items():\n",
    "        for county, data_dict in county_dict.items():\n",
    "            deaths = data_dict[\"deaths\"]\n",
    "            cases = data_dict[\"confirmed\"]\n",
    "            records.append((state.strip(), county.strip(), int(cases.strip()), int(deaths.strip())))\n",
    "    return records"
   ]
  },
  {
   "cell_type": "code",
   "execution_count": 32,
   "metadata": {},
   "outputs": [],
   "source": [
    "case_records = flatten_json_to_records(clean_dict)"
   ]
  },
  {
   "cell_type": "code",
   "execution_count": 33,
   "metadata": {},
   "outputs": [],
   "source": [
    "codes = defaultdict(dict)\n",
    "for cur_county in county_json[\"features\"]:\n",
    "    countyID = cur_county[\"properties\"][\"geo_id\"]\n",
    "    code = cur_county[\"properties\"][\"state\"]\n",
    "    countyName = cur_county[\"properties\"][\"name\"]\n",
    "    state = code_to_state[code]\n",
    "    codes[state][countyName] = countyID"
   ]
  },
  {
   "cell_type": "code",
   "execution_count": 34,
   "metadata": {},
   "outputs": [],
   "source": [
    "def get_county_cases():\n",
    "    dict_cases = {}\n",
    "    used_states = []\n",
    "    for (state, county, cases, deaths) in case_records:\n",
    "        if not state in used_states:\n",
    "            for county_temp, geo in codes[state].items():\n",
    "                dict_cases[geo] = (state, county_temp, 0, 0)\n",
    "            used_states.append(state)\n",
    "        try:\n",
    "            geo_id = codes[state][county]\n",
    "            dict_cases[geo_id] = (state, county, cases, deaths)\n",
    "        except KeyError:\n",
    "            print(f\"County not found:'{state}', '{county}', '{cases}'\")\n",
    "    return dict_cases"
   ]
  },
  {
   "cell_type": "code",
   "execution_count": 35,
   "metadata": {},
   "outputs": [
    {
     "data": {
      "text/plain": [
       "'0500000US36085'"
      ]
     },
     "execution_count": 35,
     "metadata": {},
     "output_type": "execute_result"
    }
   ],
   "source": [
    "codes[\"New York\"][\"Richmond\"]"
   ]
  },
  {
   "cell_type": "code",
   "execution_count": 36,
   "metadata": {},
   "outputs": [
    {
     "name": "stdout",
     "output_type": "stream",
     "text": [
      "County not found:'New York', 'Unassigned', '23'\n",
      "County not found:'Washington', 'Unassigned', '159'\n",
      "County not found:'Washington', 'Walla Walla County', '1'\n",
      "County not found:'New Jersey', 'Unassigned', '221'\n",
      "County not found:'Illinois', 'Unassigned', '2'\n",
      "County not found:'Michigan', 'Out of State', '2'\n",
      "County not found:'Florida', 'Unassigned', '1'\n",
      "County not found:'Louisiana', 'Unassigned', '50'\n",
      "County not found:'Massachusetts', 'Unassigned', '30'\n",
      "County not found:'Massachusetts', 'Dukes and Nantucket', '1'\n",
      "County not found:'Georgia', 'Unassigned', '27'\n",
      "County not found:'Colorado', 'Unassigned', '1'\n",
      "County not found:'Tennessee', 'Out-of-state', '82'\n",
      "County not found:'Tennessee', 'Unknown', '30'\n",
      "County not found:'Nevada', 'Unassigned', '36'\n",
      "County not found:'Utah', 'Non-Utah resident', '12'\n",
      "County not found:'Utah', 'Southwest Utah', '1'\n",
      "County not found:'Minnesota', 'LeSeur', '1'\n",
      "County not found:'Arkansas', 'Unassigned', '121'\n",
      "County not found:'Missouri', 'Unassigned', '2'\n",
      "County not found:'Kentucky', 'Unassigned', '39'\n",
      "County not found:'Maine', 'Unassigned', '8'\n",
      "County not found:'Rhode Island', 'Unassigned', '8'\n",
      "County not found:'New Mexico', 'Dona Ana', '4'\n",
      "County not found:'Diamond Princess', 'Unassigned', '44'\n",
      "County not found:'Diamond Princess', 'Sonoma', '2'\n",
      "County not found:'Diamond Princess', 'Riverside', '2'\n",
      "County not found:'Diamond Princess', 'San Diego', '1'\n",
      "County not found:'Montana', 'Unassigned', '1'\n",
      "County not found:'Alaska', 'Matanuska-Susitna Borough', '2'\n",
      "County not found:'Alaska', 'Soldotna', '1'\n",
      "County not found:'Alaska', 'Sterling', '1'\n",
      "County not found:'Puerto Rico', 'Puerto Rico', '31'\n",
      "County not found:'Grand Princess', 'Unassigned', '20'\n",
      "County not found:'Grand Princess', 'Solano', '7'\n",
      "County not found:'Grand Princess', 'San Diego', '1'\n",
      "County not found:'Grand Princess', 'Grand Princess', '0'\n",
      "County not found:'Guam', 'Guam', '27'\n",
      "County not found:'US Virgin Islands', 'Unassigned', '6'\n",
      "County not found:'Wuhan Evacuee', 'Unassigned', '4'\n"
     ]
    }
   ],
   "source": [
    "dict_cases = get_county_cases()"
   ]
  },
  {
   "cell_type": "code",
   "execution_count": 37,
   "metadata": {},
   "outputs": [
    {
     "name": "stdout",
     "output_type": "stream",
     "text": [
      "Subbing in 0500000US51159 for 0500000US51760\n",
      "Subbing in 0500000US29189 for 0500000US29510\n",
      "Subbing in 0500000US51059 for 0500000US51600\n",
      "Subbing in 0500000US51515 for 0500000US51019\n",
      "Subbing in 0500000US51620 for 0500000US51067\n",
      "Not Found {'geo_id': '0500000US24005', 'county': '005', 'name': 'Baltimore', 'lsad': 'County', 'censusarea': 598.302, 'state': '24', 'statename': 'Maryland', 'stateabbr': 'MD', 'population': 828431, 'land_area': '598.30', 'housing_units': '335622', 'population_density': 1384.6414842052484, 'cases': 0, 'deaths': 0} \n",
      "\n",
      "Subbing in 0500000US51770 for 0500000US51161\n"
     ]
    }
   ],
   "source": [
    "subs = {\n",
    "    '0500000US51760':'0500000US51159', \n",
    "    '0500000US51600':'0500000US51059',\n",
    "    '0500000US51019':'0500000US51515',\n",
    "    '0500000US51067':'0500000US51620',\n",
    "    '0500000US51161':'0500000US51770',\n",
    "    '0500000US2a4005':'0500000US24510',\n",
    "    '0500000US29510':'0500000US29189',\n",
    "}\n",
    "for cur_county in county_json[\"features\"]:\n",
    "    county_id = cur_county[\"properties\"][\"geo_id\"]\n",
    "    if county_id in dict_cases:\n",
    "        cur_county[\"properties\"][\"cases\"] = dict_cases[county_id][2]\n",
    "        cur_county[\"properties\"][\"deaths\"] = dict_cases[county_id][3]\n",
    "    else:\n",
    "        if (county_id in subs):\n",
    "            correct_id = subs[county_id]\n",
    "            print(f\"Subbing in {correct_id} for {county_id}\")\n",
    "            cur_county[\"properties\"][\"cases\"] = dict_cases[correct_id][2]\n",
    "            cur_county[\"properties\"][\"deaths\"] = dict_cases[correct_id][3]\n",
    "        else:\n",
    "            cur_county[\"properties\"][\"cases\"] = 0\n",
    "            cur_county[\"properties\"][\"deaths\"] = 0\n",
    "            print(\"Not Found\", cur_county[\"properties\"], \"\\n\")"
   ]
  },
  {
   "cell_type": "markdown",
   "metadata": {},
   "source": [
    "### Breakdown NYC into counties by proportional estimate"
   ]
  },
  {
   "cell_type": "code",
   "execution_count": 38,
   "metadata": {},
   "outputs": [
    {
     "data": {
      "text/plain": [
       "('New York', 'Queens', 0, 0)"
      ]
     },
     "execution_count": 38,
     "metadata": {},
     "output_type": "execute_result"
    }
   ],
   "source": [
    "dict_cases['0500000US36081']"
   ]
  },
  {
   "cell_type": "code",
   "execution_count": 39,
   "metadata": {},
   "outputs": [],
   "source": [
    "# This is based on an estimate on 3/21/20 in which NYC had 5687 cases broken down as follows\n",
    "# # Kings - 1750, Queens - 1514, New York 1402, Bronx 736, Richmond 285\n",
    "proportion_dict = {\n",
    "    #code:proportion of NYC cases\n",
    "    #queens\n",
    "    '0500000US36081':.26622121,\n",
    "    #kings\n",
    "    '0500000US36047':.30771936,\n",
    "    #Bronx\n",
    "    '0500000US36005':.12941797,\n",
    "    #Richmond (Staten Island)\n",
    "    '0500000US36085':.05011429,\n",
    "    #New York (Manhattan)\n",
    "    '0500000US36061':.24652717,\n",
    "}\n",
    "\n",
    "# #get cases that were all aggregated in NY county\n",
    "state, county, ny_cases, ny_deaths = dict_cases['0500000US36061']\n",
    "# #split them up into the correct counties\n",
    "queens_cases = dict_cases['0500000US36081'][3]\n",
    "# sometimes they include each county, sometimes they just include NY county, so we check and if \n",
    "# queens cases are 0 we run the proportion\n",
    "if queens_cases == 0:\n",
    "    for geo_id, proportion in proportion_dict.items():\n",
    "        county_cases = int(proportion*ny_cases)\n",
    "        county_deaths = int(proportion*ny_deaths)\n",
    "        state, county, _, _ = dict_cases[geo_id]\n",
    "        dict_cases[geo_id] = (state, county, county_cases, county_deaths)"
   ]
  },
  {
   "cell_type": "code",
   "execution_count": 40,
   "metadata": {},
   "outputs": [],
   "source": [
    "for cur_county in county_json[\"features\"]:\n",
    "    county_id = cur_county[\"properties\"][\"geo_id\"]\n",
    "    if county_id in proportion_dict.keys():\n",
    "        cur_county[\"properties\"][\"cases\"] = dict_cases[county_id][2]\n",
    "        cur_county[\"properties\"][\"deaths\"] = dict_cases[county_id][3]"
   ]
  },
  {
   "cell_type": "code",
   "execution_count": 41,
   "metadata": {},
   "outputs": [],
   "source": [
    "# dict_cases['0500000US36061']"
   ]
  },
  {
   "cell_type": "code",
   "execution_count": 42,
   "metadata": {},
   "outputs": [],
   "source": [
    "# _, _, ny_cases, ny_deaths = dict_cases['0500000US36061']\n",
    "# #New York (manhattan) '0500000US36061'\n",
    "# #queens '0500000US36081'\n",
    "# #kings (brooklyn) '0500000US36047'\n",
    "# #bronx '0500000US36005'\n",
    "# #staten island '0500000US36085'"
   ]
  },
  {
   "cell_type": "markdown",
   "metadata": {},
   "source": [
    "## Add in percapita stats"
   ]
  },
  {
   "cell_type": "code",
   "execution_count": 43,
   "metadata": {},
   "outputs": [],
   "source": [
    "for cur_county in county_json[\"features\"]:\n",
    "    props = cur_county[\"properties\"]\n",
    "    per_cap = props[\"population\"]/100000\n",
    "    props[\"pc_cases\"] = props[\"cases\"]/per_cap\n",
    "    props[\"pc_deaths\"] = props[\"deaths\"]/per_cap"
   ]
  },
  {
   "cell_type": "markdown",
   "metadata": {},
   "source": [
    "## Add Centroids"
   ]
  },
  {
   "cell_type": "code",
   "execution_count": 44,
   "metadata": {},
   "outputs": [],
   "source": [
    "with open(data_folder/\"countyCentroids.json\", 'r') as f:\n",
    "    county_centroids = json.load(f)"
   ]
  },
  {
   "cell_type": "code",
   "execution_count": 45,
   "metadata": {},
   "outputs": [
    {
     "data": {
      "text/plain": [
       "{'type': 'Feature',\n",
       " 'properties': {'GEO_ID': '0500000US01029',\n",
       "  'STATE': '01',\n",
       "  'COUNTY': '029',\n",
       "  'NAME': 'Cleburne',\n",
       "  'LSAD': 'County',\n",
       "  'CENSUSAREA': 560.1},\n",
       " 'geometry': {'type': 'Point',\n",
       "  'coordinates': [-85.5187931476936, 33.674542689931684]}}"
      ]
     },
     "execution_count": 45,
     "metadata": {},
     "output_type": "execute_result"
    }
   ],
   "source": [
    "county_centroids[\"features\"][0]"
   ]
  },
  {
   "cell_type": "code",
   "execution_count": 46,
   "metadata": {},
   "outputs": [],
   "source": [
    "for county in county_json[\"features\"]:\n",
    "    for county2 in county_centroids[\"features\"]:\n",
    "        if county[\"properties\"]['geo_id'] == county2[\"properties\"]['GEO_ID']:\n",
    "            county[\"properties\"][\"lat\"] = county2[\"geometry\"][\"coordinates\"][0]\n",
    "            county[\"properties\"][\"long\"] = county2[\"geometry\"][\"coordinates\"][1]"
   ]
  },
  {
   "cell_type": "markdown",
   "metadata": {},
   "source": [
    "## Add Risk Data"
   ]
  },
  {
   "cell_type": "code",
   "execution_count": 47,
   "metadata": {},
   "outputs": [],
   "source": [
    "#111 is to convert degrees to kilometers\n",
    "def get_distance(c0, c1):\n",
    "    lat_dist = abs(c0[0])-abs(c1[0])\n",
    "    lng_dist = abs(c0[1])-abs(c1[1])\n",
    "    distance = 111 * math.sqrt(lat_dist**2 + lng_dist**2)\n",
    "    return distance"
   ]
  },
  {
   "cell_type": "markdown",
   "metadata": {},
   "source": [
    "### Local Risk"
   ]
  },
  {
   "cell_type": "code",
   "execution_count": 48,
   "metadata": {},
   "outputs": [],
   "source": [
    "def calc_county_local_risk(props):\n",
    "    cases = props[\"cases\"]\n",
    "    try:\n",
    "        population = props[\"population\"]\n",
    "    except KeyError:\n",
    "        print(props['name'], props['statename'])\n",
    "        raise KeyError\n",
    "    if cases == 'NaN': \n",
    "        print('NaN cases found')\n",
    "        cases = 0\n",
    "    return cases/(population/100000) if population != -1 else -1"
   ]
  },
  {
   "cell_type": "code",
   "execution_count": 49,
   "metadata": {},
   "outputs": [
    {
     "data": {
      "text/plain": [
       "('Alabama', 'Autauga', 0, 0)"
      ]
     },
     "execution_count": 49,
     "metadata": {},
     "output_type": "execute_result"
    }
   ],
   "source": [
    "dict_cases['0500000US01001']"
   ]
  },
  {
   "cell_type": "code",
   "execution_count": 50,
   "metadata": {},
   "outputs": [],
   "source": [
    "for cur_county in county_json[\"features\"]:\n",
    "    cur_county[\"properties\"][\"risk_local\"] = calc_county_local_risk(cur_county[\"properties\"])"
   ]
  },
  {
   "cell_type": "markdown",
   "metadata": {},
   "source": [
    "### Neighbor Risk"
   ]
  },
  {
   "cell_type": "code",
   "execution_count": 51,
   "metadata": {},
   "outputs": [],
   "source": [
    "def calc_county_neighbor_risk(risks):\n",
    "    total_neighbor_risk = 0\n",
    "    num_risks = len(risks)\n",
    "    for risk in risks.values():\n",
    "        distance, neighbor_cases, neighbor_pop = risk.values()\n",
    "        neighbor_density = float(neighbor_cases)/(neighbor_pop/100000)\n",
    "        total_neighbor_risk += float(neighbor_density)*(2**(-1*math.log2(float(distance))))\n",
    "    return total_neighbor_risk"
   ]
  },
  {
   "cell_type": "code",
   "execution_count": 52,
   "metadata": {},
   "outputs": [],
   "source": [
    "def get_county_all_neighbor_risk(props):\n",
    "    risk_details = {}\n",
    "    for cur_county in county_json[\"features\"]:\n",
    "        neighbor_props = cur_county[\"properties\"]\n",
    "        neighbor_risk = get_county_neighbor_risk(props, neighbor_props)\n",
    "        if(neighbor_risk != {}): risk_details[neighbor_props[\"geo_id\"]] = neighbor_risk\n",
    "    population = props.get(\"population\", 1000000)\n",
    "    props[\"risk_nearby\"] = calc_county_neighbor_risk(risk_details)\n",
    "    props[\"risk_total\"] = props[\"risk_nearby\"] + props[\"risk_local\"]"
   ]
  },
  {
   "cell_type": "code",
   "execution_count": 53,
   "metadata": {},
   "outputs": [],
   "source": [
    "MAX_DISTANCE = 250\n",
    "def get_county_neighbor_risk(props, neighbor_props):\n",
    "    geoID1 = props[\"geo_id\"]\n",
    "    geoID2 = neighbor_props[\"geo_id\"]\n",
    "    centroid = [props[\"lat\"], props[\"long\"]]\n",
    "    centroid_neighbor = [neighbor_props[\"lat\"], neighbor_props[\"long\"]]\n",
    "    distance = get_distance(centroid, centroid_neighbor)\n",
    "    neighbor_cases = neighbor_props[\"cases\"]\n",
    "    neighbor_population = neighbor_props[\"population\"]\n",
    "    if(geoID1 == geoID2 or distance > MAX_DISTANCE or neighbor_cases == \"NaN\"): \n",
    "        return {}\n",
    "    else:\n",
    "        return {\"distance\":distance, \"cases\":neighbor_cases, \"pop\":neighbor_population}"
   ]
  },
  {
   "cell_type": "code",
   "execution_count": 54,
   "metadata": {},
   "outputs": [],
   "source": [
    "for cur_county in county_json[\"features\"]:\n",
    "    get_county_all_neighbor_risk(cur_county[\"properties\"])"
   ]
  },
  {
   "cell_type": "code",
   "execution_count": 55,
   "metadata": {},
   "outputs": [
    {
     "data": {
      "text/plain": [
       "{'type': 'Feature',\n",
       " 'properties': {'geo_id': '0500000US19163',\n",
       "  'county': '163',\n",
       "  'name': 'Scott',\n",
       "  'lsad': 'County',\n",
       "  'censusarea': 458.089,\n",
       "  'state': '19',\n",
       "  'statename': 'Iowa',\n",
       "  'stateabbr': 'IA',\n",
       "  'population': 173283,\n",
       "  'land_area': '458.09',\n",
       "  'housing_units': '71835',\n",
       "  'population_density': 378.2728284834858,\n",
       "  'cases': 1,\n",
       "  'deaths': 0,\n",
       "  'pc_cases': 0.5770906551710208,\n",
       "  'pc_deaths': 0.0,\n",
       "  'lat': -90.62324265750517,\n",
       "  'long': 41.63709282155562,\n",
       "  'risk_local': 0.5770906551710208,\n",
       "  'risk_nearby': 1.2078852610165058,\n",
       "  'risk_total': 1.7849759161875265},\n",
       " 'geometry': {'type': 'Polygon',\n",
       "  'coordinates': [[[-90.898373, 41.771392],\n",
       "    [-90.473617, 41.773465],\n",
       "    [-90.317041, 41.729104],\n",
       "    [-90.334525, 41.679559],\n",
       "    [-90.343162, 41.648141],\n",
       "    [-90.34165, 41.621484],\n",
       "    [-90.39793, 41.572233],\n",
       "    [-90.461432, 41.523533],\n",
       "    [-90.474332, 41.519733],\n",
       "    [-90.499475, 41.518055],\n",
       "    [-90.605937, 41.494232],\n",
       "    [-90.655839, 41.462132],\n",
       "    [-90.737537, 41.450127],\n",
       "    [-90.771672, 41.450761],\n",
       "    [-90.786282, 41.452888],\n",
       "    [-90.783812, 41.596531],\n",
       "    [-90.899853, 41.597133],\n",
       "    [-90.898373, 41.771392]]]}}"
      ]
     },
     "execution_count": 55,
     "metadata": {},
     "output_type": "execute_result"
    }
   ],
   "source": [
    "county_json[\"features\"][1002]"
   ]
  },
  {
   "cell_type": "code",
   "execution_count": 56,
   "metadata": {},
   "outputs": [
    {
     "data": {
      "text/plain": [
       "dict_keys(['geo_id', 'county', 'name', 'lsad', 'censusarea', 'state', 'statename', 'stateabbr', 'population', 'land_area', 'housing_units', 'population_density', 'cases', 'deaths', 'pc_cases', 'pc_deaths', 'lat', 'long', 'risk_local', 'risk_nearby', 'risk_total'])"
      ]
     },
     "execution_count": 56,
     "metadata": {},
     "output_type": "execute_result"
    }
   ],
   "source": [
    "county_json[\"features\"][0][\"properties\"].keys()"
   ]
  },
  {
   "cell_type": "markdown",
   "metadata": {},
   "source": [
    "## Export"
   ]
  },
  {
   "cell_type": "code",
   "execution_count": 57,
   "metadata": {},
   "outputs": [],
   "source": [
    "class NpEncoder(json.JSONEncoder):\n",
    "    def default(self, obj):\n",
    "        if isinstance(obj, np.integer):\n",
    "            return int(obj)\n",
    "        elif isinstance(obj, np.floating):\n",
    "            return float(obj)\n",
    "        elif isinstance(obj, np.ndarray):\n",
    "            return obj.tolist()\n",
    "        else:\n",
    "            return super(NpEncoder, self).default(obj)\n",
    "\n",
    "with open(\"../../data/counties.json\", 'w') as f:\n",
    "    json.dump(county_json, f, cls=NpEncoder)\n",
    "    \n",
    "with open(\"../../data/countyData.js\", 'w') as f:\n",
    "    f.write(\"let countyData = \")\n",
    "    json.dump(county_json, f, cls=NpEncoder)"
   ]
  },
  {
   "cell_type": "code",
   "execution_count": 58,
   "metadata": {},
   "outputs": [
    {
     "name": "stdout",
     "output_type": "stream",
     "text": [
      "This application is used to convert notebook files (*.ipynb) to various other\n",
      "formats.\n",
      "\n",
      "WARNING: THE COMMANDLINE INTERFACE MAY CHANGE IN FUTURE RELEASES.\n",
      "\n",
      "Options\n",
      "\n",
      "-------\n",
      "\n",
      "\n",
      "\n",
      "Arguments that take values are actually convenience aliases to full\n",
      "Configurables, whose aliases are listed on the help line. For more information\n",
      "on full configurables, see '--help-all'.\n",
      "\n",
      "\n",
      "--debug\n",
      "\n",
      "    set log level to logging.DEBUG (maximize logging output)\n",
      "\n",
      "--generate-config\n",
      "\n",
      "    generate default config file\n",
      "\n",
      "-y\n",
      "\n",
      "    Answer yes to any questions instead of prompting.\n",
      "\n",
      "--execute\n",
      "\n",
      "    Execute the notebook prior to export.\n",
      "\n",
      "--allow-errors\n",
      "\n",
      "    Continue notebook execution even if one of the cells throws an error and include the error message in the cell output (the default behaviour is to abort conversion). This flag is only relevant if '--execute' was specified, too.\n",
      "\n",
      "--stdin\n",
      "\n",
      "    read a single notebook file from stdin. Write the resulting notebook with default basename 'notebook.*'\n",
      "\n",
      "--stdout\n",
      "\n",
      "    Write notebook output to stdout instead of files.\n",
      "\n",
      "--inplace\n",
      "\n",
      "    Run nbconvert in place, overwriting the existing notebook (only \n",
      "    relevant when converting to notebook format)\n",
      "\n",
      "--clear-output\n",
      "\n",
      "    Clear output of current file and save in place, \n",
      "    overwriting the existing notebook.\n",
      "\n",
      "--no-prompt\n",
      "\n",
      "    Exclude input and output prompts from converted document.\n",
      "\n",
      "--no-input\n",
      "\n",
      "    Exclude input cells and output prompts from converted document. \n",
      "    This mode is ideal for generating code-free reports.\n",
      "--log-level=<Enum> (Application.log_level)\n",
      "\n",
      "    Default: 30\n",
      "\n",
      "    Choices: (0, 10, 20, 30, 40, 50, 'DEBUG', 'INFO', 'WARN', 'ERROR', 'CRITICAL')\n",
      "\n",
      "    Set the log level by value or name.\n",
      "\n",
      "--config=<Unicode> (JupyterApp.config_file)\n",
      "\n",
      "    Default: ''\n",
      "\n",
      "    Full path of a config file.\n",
      "\n",
      "--to=<Unicode> (NbConvertApp.export_format)\n",
      "\n",
      "    Default: 'html'\n",
      "\n",
      "    The export format to be used, either one of the built-in formats\n",
      "\n",
      "    ['asciidoc', 'custom', 'html', 'html_ch', 'html_embed', 'html_toc',\n",
      "\n",
      "    'html_with_lenvs', 'html_with_toclenvs', 'latex', 'latex_with_lenvs',\n",
      "\n",
      "    'markdown', 'notebook', 'pdf', 'python', 'rst', 'script', 'selectLanguage',\n",
      "\n",
      "    'slides', 'slides_with_lenvs'] or a dotted object name that represents the\n",
      "\n",
      "    import path for an `Exporter` class\n",
      "\n",
      "--template=<Unicode> (TemplateExporter.template_file)\n",
      "\n",
      "    Default: ''\n",
      "\n",
      "    Name of the template file to use\n",
      "\n",
      "--writer=<DottedObjectName> (NbConvertApp.writer_class)\n",
      "\n",
      "    Default: 'FilesWriter'\n",
      "\n",
      "    Writer class used to write the  results of the conversion\n",
      "\n",
      "--post=<DottedOrNone> (NbConvertApp.postprocessor_class)\n",
      "\n",
      "    Default: ''\n",
      "\n",
      "    PostProcessor class used to write the results of the conversion\n",
      "\n",
      "--output=<Unicode> (NbConvertApp.output_base)\n",
      "\n",
      "    Default: ''\n",
      "\n",
      "    overwrite base name use for output files. can only be used when converting\n",
      "\n",
      "    one notebook at a time.\n",
      "\n",
      "--output-dir=<Unicode> (FilesWriter.build_directory)\n",
      "\n",
      "    Default: ''\n",
      "\n",
      "    Directory to write output(s) to. Defaults to output to the directory of each\n",
      "\n",
      "    notebook. To recover previous default behaviour (outputting to the current\n",
      "\n",
      "    working directory) use . as the flag value.\n",
      "\n",
      "--reveal-prefix=<Unicode> (SlidesExporter.reveal_url_prefix)\n",
      "\n",
      "    Default: ''\n",
      "\n",
      "    The URL prefix for reveal.js (version 3.x). This defaults to the reveal CDN,\n",
      "\n",
      "    but can be any url pointing to a copy  of reveal.js.\n",
      "\n",
      "    For speaker notes to work, this must be a relative path to a local  copy of\n",
      "\n",
      "    reveal.js: e.g., \"reveal.js\".\n",
      "\n",
      "    If a relative path is given, it must be a subdirectory of the current\n",
      "\n",
      "    directory (from which the server is run).\n",
      "\n",
      "    See the usage documentation\n",
      "\n",
      "    (https://nbconvert.readthedocs.io/en/latest/usage.html#reveal-js-html-\n",
      "\n",
      "    slideshow) for more details.\n",
      "\n",
      "--nbformat=<Enum> (NotebookExporter.nbformat_version)\n",
      "\n",
      "    Default: 4\n",
      "\n",
      "    Choices: [1, 2, 3, 4]\n",
      "\n",
      "    The nbformat version to write. Use this to downgrade notebooks.\n",
      "\n",
      "To see all available configurables, use `--help-all`\n",
      "\n",
      "Examples\n",
      "--------\n",
      "\n",
      "    The simplest way to use nbconvert is\n",
      "    \n",
      "    > jupyter nbconvert mynotebook.ipynb\n",
      "    \n",
      "    which will convert mynotebook.ipynb to the default format (probably HTML).\n",
      "    \n",
      "    You can specify the export format with `--to`.\n",
      "    Options include ['asciidoc', 'custom', 'html', 'html_ch', 'html_embed', 'html_toc', 'html_with_lenvs', 'html_with_toclenvs', 'latex', 'latex_with_lenvs', 'markdown', 'notebook', 'pdf', 'python', 'rst', 'script', 'selectLanguage', 'slides', 'slides_with_lenvs'].\n",
      "    \n",
      "    > jupyter nbconvert --to latex mynotebook.ipynb\n",
      "    \n",
      "    Both HTML and LaTeX support multiple output templates. LaTeX includes\n",
      "    'base', 'article' and 'report'.  HTML includes 'basic' and 'full'. You\n",
      "    can specify the flavor of the format used.\n",
      "    \n",
      "    > jupyter nbconvert --to html --template basic mynotebook.ipynb\n",
      "    \n",
      "    You can also pipe the output to stdout, rather than a file\n",
      "    \n",
      "    > jupyter nbconvert mynotebook.ipynb --stdout\n",
      "    \n",
      "    PDF is generated via latex\n",
      "    \n",
      "    > jupyter nbconvert mynotebook.ipynb --to pdf\n",
      "    \n",
      "    You can get (and serve) a Reveal.js-powered slideshow\n",
      "    \n",
      "    > jupyter nbconvert myslides.ipynb --to slides --post serve\n",
      "    \n",
      "    Multiple notebooks can be given at the command line in a couple of \n",
      "    different ways:\n",
      "    \n",
      "    > jupyter nbconvert notebook*.ipynb\n",
      "    > jupyter nbconvert notebook1.ipynb notebook2.ipynb\n",
      "    \n",
      "    or you can specify the notebooks list in a config file, containing::\n",
      "    \n",
      "        c.NbConvertApp.notebooks = [\"my_notebook.ipynb\"]\n",
      "    \n",
      "    > jupyter nbconvert --config mycfg.py\n",
      "\n"
     ]
    },
    {
     "name": "stderr",
     "output_type": "stream",
     "text": [
      "[NbConvertApp] WARNING | pattern '10_counties.ipynb' matched no files\n"
     ]
    }
   ],
   "source": [
    "!jupyter nbconvert --to script 10_counties.ipynb"
   ]
  },
  {
   "cell_type": "code",
   "execution_count": null,
   "metadata": {},
   "outputs": [],
   "source": []
  }
 ],
 "metadata": {
  "kernelspec": {
   "display_name": "Python 3",
   "language": "python",
   "name": "python3"
  },
  "language_info": {
   "codemirror_mode": {
    "name": "ipython",
    "version": 3
   },
   "file_extension": ".py",
   "mimetype": "text/x-python",
   "name": "python",
   "nbconvert_exporter": "python",
   "pygments_lexer": "ipython3",
   "version": "3.7.1"
  },
  "toc": {
   "base_numbering": 1,
   "nav_menu": {},
   "number_sections": true,
   "sideBar": true,
   "skip_h1_title": true,
   "title_cell": "Table of Contents",
   "title_sidebar": "Contents",
   "toc_cell": false,
   "toc_position": {},
   "toc_section_display": true,
   "toc_window_display": true
  }
 },
 "nbformat": 4,
 "nbformat_minor": 4
}
